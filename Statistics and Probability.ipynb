{
 "cells": [
  {
   "cell_type": "markdown",
   "id": "cfd196f4",
   "metadata": {},
   "source": [
    "#         Group Discussion Meeting 2"
   ]
  },
  {
   "cell_type": "markdown",
   "id": "628421b4",
   "metadata": {},
   "source": [
    "### Statistics and Probability"
   ]
  },
  {
   "cell_type": "markdown",
   "id": "9cccfb93",
   "metadata": {},
   "source": [
    "#### Today's session\n",
    "- what is statistics?\n",
    "- Why is it important?\n",
    "- How to apply in real life?\n",
    "### Probability\n",
    "- What is probability?\n",
    "- How to understand probability?\n",
    "- Do we need it?\n",
    "\n",
    "Appplication of them by using python"
   ]
  },
  {
   "cell_type": "markdown",
   "id": "c4047724",
   "metadata": {},
   "source": [
    "## What is statistics?\n",
    "\n",
    "**Statistics** is the study of hoow to collect, organize, analyze, and interpret numerical information and data.\n",
    "\n",
    "- It is a science and technology of extracting insights from data.\n",
    "\n",
    "So, that is why it help us to make decisions."
   ]
  },
  {
   "cell_type": "markdown",
   "id": "265669a0",
   "metadata": {},
   "source": [
    "## Why is statistics important?\n",
    "\n",
    "1. **Data Exploration and Summary:** Statistics offers methods for summarizing and exploring datasets, such as calculating measures of central tendency (mean, median, mode), dispersion (standard deviation, variance), and visualizing data distributions through histograms, box plots, and scatter plots.\n",
    "2. **Inference and Hypothesis Testing:** Data scientists often work with samples rather than entire populations. Statistics provides inferential tools like hypothesis testing, confidence intervals, and p-values to draw conclusions about populations based on sample data.\n",
    "3. **Modeling and Prediction:** Statistical methods form the foundation of predictive modeling in data science. Techniques such as linear regression, logistic regression, and decision trees rely on statistical principles to build models that can predict outcomes based on input features.\n",
    "4. **ModelEvaluation and Validation:** Statistics helps ensure predictive models are accurate and reliable. Metrics like accuracy and techniques like cross-validation check how well models perform with new data, making sure they're trustworthy for predictions.\n",
    "5. **Understanding Uncertainty and Risk:** Statistics helps data scientists quantify and manage uncertainty and risk in data-driven decisions. Probability theory provides a framework for modeling uncertainty, while techniques like Bayesian inference and Monte Carlo simulations allow for probabilistic predictions and risk assessment"
   ]
  },
  {
   "cell_type": "markdown",
   "id": "105c6be6",
   "metadata": {},
   "source": [
    "# How to apply it in real life?"
   ]
  },
  {
   "cell_type": "code",
   "execution_count": 5,
   "id": "231b28e2",
   "metadata": {},
   "outputs": [],
   "source": [
    "import pandas as pd\n",
    "import numpy as np\n",
    "import matplotlib.pyplot as plt"
   ]
  },
  {
   "cell_type": "code",
   "execution_count": 13,
   "id": "18d4e17a",
   "metadata": {},
   "outputs": [],
   "source": [
    "file = r\"C:\\Users\\USER1\\Desktop\\data_science\\GroupDiscussion_Lead\\Demographic_Data_Orig.csv\"\n",
    "df = pd.read_csv(file)"
   ]
  },
  {
   "cell_type": "code",
   "execution_count": 11,
   "id": "38458530",
   "metadata": {
    "scrolled": true
   },
   "outputs": [
    {
     "data": {
      "text/html": [
       "<div>\n",
       "<style scoped>\n",
       "    .dataframe tbody tr th:only-of-type {\n",
       "        vertical-align: middle;\n",
       "    }\n",
       "\n",
       "    .dataframe tbody tr th {\n",
       "        vertical-align: top;\n",
       "    }\n",
       "\n",
       "    .dataframe thead th {\n",
       "        text-align: right;\n",
       "    }\n",
       "</style>\n",
       "<table border=\"1\" class=\"dataframe\">\n",
       "  <thead>\n",
       "    <tr style=\"text-align: right;\">\n",
       "      <th></th>\n",
       "      <th>index</th>\n",
       "      <th>full.name</th>\n",
       "      <th>ip.address</th>\n",
       "      <th>region</th>\n",
       "      <th>in.store</th>\n",
       "      <th>age</th>\n",
       "      <th>items</th>\n",
       "      <th>amount</th>\n",
       "    </tr>\n",
       "  </thead>\n",
       "  <tbody>\n",
       "    <tr>\n",
       "      <th>0</th>\n",
       "      <td>0</td>\n",
       "      <td>Carter Stokes</td>\n",
       "      <td>NaN</td>\n",
       "      <td>2</td>\n",
       "      <td>0</td>\n",
       "      <td>37</td>\n",
       "      <td>4</td>\n",
       "      <td>281.030</td>\n",
       "    </tr>\n",
       "    <tr>\n",
       "      <th>1</th>\n",
       "      <td>1</td>\n",
       "      <td>Jacob Jerde</td>\n",
       "      <td>NaN</td>\n",
       "      <td>2</td>\n",
       "      <td>0</td>\n",
       "      <td>35</td>\n",
       "      <td>2</td>\n",
       "      <td>219.510</td>\n",
       "    </tr>\n",
       "    <tr>\n",
       "      <th>2</th>\n",
       "      <td>2</td>\n",
       "      <td>Tressa Ratke</td>\n",
       "      <td>192.90.208.202</td>\n",
       "      <td>4</td>\n",
       "      <td>1</td>\n",
       "      <td>45</td>\n",
       "      <td>3</td>\n",
       "      <td>1525.700</td>\n",
       "    </tr>\n",
       "    <tr>\n",
       "      <th>3</th>\n",
       "      <td>3</td>\n",
       "      <td>Rudolf Abshire</td>\n",
       "      <td>251.55.128.164</td>\n",
       "      <td>3</td>\n",
       "      <td>1</td>\n",
       "      <td>46</td>\n",
       "      <td>3</td>\n",
       "      <td>715.250</td>\n",
       "    </tr>\n",
       "    <tr>\n",
       "      <th>4</th>\n",
       "      <td>4</td>\n",
       "      <td>Theresa Davis</td>\n",
       "      <td>182.19.192.186</td>\n",
       "      <td>1</td>\n",
       "      <td>1</td>\n",
       "      <td>33</td>\n",
       "      <td>4</td>\n",
       "      <td>1937.500</td>\n",
       "    </tr>\n",
       "    <tr>\n",
       "      <th>...</th>\n",
       "      <td>...</td>\n",
       "      <td>...</td>\n",
       "      <td>...</td>\n",
       "      <td>...</td>\n",
       "      <td>...</td>\n",
       "      <td>...</td>\n",
       "      <td>...</td>\n",
       "      <td>...</td>\n",
       "    </tr>\n",
       "    <tr>\n",
       "      <th>95</th>\n",
       "      <td>95</td>\n",
       "      <td>Eddy Schumm</td>\n",
       "      <td>NaN</td>\n",
       "      <td>2</td>\n",
       "      <td>0</td>\n",
       "      <td>58</td>\n",
       "      <td>4</td>\n",
       "      <td>165.280</td>\n",
       "    </tr>\n",
       "    <tr>\n",
       "      <th>96</th>\n",
       "      <td>96</td>\n",
       "      <td>Latina Schamberger</td>\n",
       "      <td>133.71.98.46</td>\n",
       "      <td>1</td>\n",
       "      <td>1</td>\n",
       "      <td>19</td>\n",
       "      <td>7</td>\n",
       "      <td>1995.000</td>\n",
       "    </tr>\n",
       "    <tr>\n",
       "      <th>97</th>\n",
       "      <td>97</td>\n",
       "      <td>Stanton Jerde</td>\n",
       "      <td>NaN</td>\n",
       "      <td>2</td>\n",
       "      <td>0</td>\n",
       "      <td>80</td>\n",
       "      <td>1</td>\n",
       "      <td>13.109</td>\n",
       "    </tr>\n",
       "    <tr>\n",
       "      <th>98</th>\n",
       "      <td>98</td>\n",
       "      <td>Vince Stokes</td>\n",
       "      <td>NaN</td>\n",
       "      <td>2</td>\n",
       "      <td>0</td>\n",
       "      <td>58</td>\n",
       "      <td>7</td>\n",
       "      <td>200.310</td>\n",
       "    </tr>\n",
       "    <tr>\n",
       "      <th>99</th>\n",
       "      <td>99</td>\n",
       "      <td>Mason Nolan</td>\n",
       "      <td>NaN</td>\n",
       "      <td>2</td>\n",
       "      <td>0</td>\n",
       "      <td>73</td>\n",
       "      <td>5</td>\n",
       "      <td>34.782</td>\n",
       "    </tr>\n",
       "  </tbody>\n",
       "</table>\n",
       "<p>100 rows × 8 columns</p>\n",
       "</div>"
      ],
      "text/plain": [
       "    index           full.name      ip.address  region  in.store  age  items  \\\n",
       "0       0       Carter Stokes             NaN       2         0   37      4   \n",
       "1       1         Jacob Jerde             NaN       2         0   35      2   \n",
       "2       2        Tressa Ratke  192.90.208.202       4         1   45      3   \n",
       "3       3      Rudolf Abshire  251.55.128.164       3         1   46      3   \n",
       "4       4       Theresa Davis  182.19.192.186       1         1   33      4   \n",
       "..    ...                 ...             ...     ...       ...  ...    ...   \n",
       "95     95         Eddy Schumm             NaN       2         0   58      4   \n",
       "96     96  Latina Schamberger    133.71.98.46       1         1   19      7   \n",
       "97     97       Stanton Jerde             NaN       2         0   80      1   \n",
       "98     98        Vince Stokes             NaN       2         0   58      7   \n",
       "99     99         Mason Nolan             NaN       2         0   73      5   \n",
       "\n",
       "      amount  \n",
       "0    281.030  \n",
       "1    219.510  \n",
       "2   1525.700  \n",
       "3    715.250  \n",
       "4   1937.500  \n",
       "..       ...  \n",
       "95   165.280  \n",
       "96  1995.000  \n",
       "97    13.109  \n",
       "98   200.310  \n",
       "99    34.782  \n",
       "\n",
       "[100 rows x 8 columns]"
      ]
     },
     "execution_count": 11,
     "metadata": {},
     "output_type": "execute_result"
    }
   ],
   "source": [
    "df.head(100)"
   ]
  },
  {
   "cell_type": "code",
   "execution_count": 8,
   "id": "13cf7ed2",
   "metadata": {},
   "outputs": [
    {
     "name": "stdout",
     "output_type": "stream",
     "text": [
      "<class 'pandas.core.frame.DataFrame'>\n",
      "RangeIndex: 80000 entries, 0 to 79999\n",
      "Data columns (total 8 columns):\n",
      " #   Column      Non-Null Count  Dtype  \n",
      "---  ------      --------------  -----  \n",
      " 0   index       80000 non-null  int64  \n",
      " 1   full.name   80000 non-null  object \n",
      " 2   ip.address  40000 non-null  object \n",
      " 3   region      80000 non-null  int64  \n",
      " 4   in.store    80000 non-null  int64  \n",
      " 5   age         80000 non-null  int64  \n",
      " 6   items       80000 non-null  int64  \n",
      " 7   amount      80000 non-null  float64\n",
      "dtypes: float64(1), int64(5), object(2)\n",
      "memory usage: 4.9+ MB\n"
     ]
    }
   ],
   "source": [
    "df.info()"
   ]
  },
  {
   "cell_type": "code",
   "execution_count": 28,
   "id": "5a24df5d",
   "metadata": {},
   "outputs": [
    {
     "data": {
      "text/plain": [
       "index             0\n",
       "full.name         0\n",
       "ip.address    40000\n",
       "region            0\n",
       "in.store          0\n",
       "age               0\n",
       "items             0\n",
       "amount            0\n",
       "dtype: int64"
      ]
     },
     "execution_count": 28,
     "metadata": {},
     "output_type": "execute_result"
    }
   ],
   "source": [
    "df.isnull().sum()"
   ]
  },
  {
   "cell_type": "code",
   "execution_count": 10,
   "id": "c297d638",
   "metadata": {},
   "outputs": [
    {
     "data": {
      "text/html": [
       "<div>\n",
       "<style scoped>\n",
       "    .dataframe tbody tr th:only-of-type {\n",
       "        vertical-align: middle;\n",
       "    }\n",
       "\n",
       "    .dataframe tbody tr th {\n",
       "        vertical-align: top;\n",
       "    }\n",
       "\n",
       "    .dataframe thead th {\n",
       "        text-align: right;\n",
       "    }\n",
       "</style>\n",
       "<table border=\"1\" class=\"dataframe\">\n",
       "  <thead>\n",
       "    <tr style=\"text-align: right;\">\n",
       "      <th></th>\n",
       "      <th>count</th>\n",
       "      <th>mean</th>\n",
       "      <th>std</th>\n",
       "      <th>min</th>\n",
       "      <th>25%</th>\n",
       "      <th>50%</th>\n",
       "      <th>75%</th>\n",
       "      <th>max</th>\n",
       "    </tr>\n",
       "  </thead>\n",
       "  <tbody>\n",
       "    <tr>\n",
       "      <th>index</th>\n",
       "      <td>80000.0</td>\n",
       "      <td>39999.500000</td>\n",
       "      <td>23094.155105</td>\n",
       "      <td>0.0000</td>\n",
       "      <td>19999.75</td>\n",
       "      <td>39999.500</td>\n",
       "      <td>59999.25</td>\n",
       "      <td>79999.0</td>\n",
       "    </tr>\n",
       "    <tr>\n",
       "      <th>region</th>\n",
       "      <td>80000.0</td>\n",
       "      <td>2.675000</td>\n",
       "      <td>1.126672</td>\n",
       "      <td>1.0000</td>\n",
       "      <td>2.00</td>\n",
       "      <td>3.000</td>\n",
       "      <td>4.00</td>\n",
       "      <td>4.0</td>\n",
       "    </tr>\n",
       "    <tr>\n",
       "      <th>in.store</th>\n",
       "      <td>80000.0</td>\n",
       "      <td>0.500000</td>\n",
       "      <td>0.500003</td>\n",
       "      <td>0.0000</td>\n",
       "      <td>0.00</td>\n",
       "      <td>0.500</td>\n",
       "      <td>1.00</td>\n",
       "      <td>1.0</td>\n",
       "    </tr>\n",
       "    <tr>\n",
       "      <th>age</th>\n",
       "      <td>80000.0</td>\n",
       "      <td>45.757925</td>\n",
       "      <td>15.715679</td>\n",
       "      <td>18.0000</td>\n",
       "      <td>33.00</td>\n",
       "      <td>45.000</td>\n",
       "      <td>56.00</td>\n",
       "      <td>85.0</td>\n",
       "    </tr>\n",
       "    <tr>\n",
       "      <th>items</th>\n",
       "      <td>80000.0</td>\n",
       "      <td>4.504975</td>\n",
       "      <td>2.061238</td>\n",
       "      <td>1.0000</td>\n",
       "      <td>3.00</td>\n",
       "      <td>4.000</td>\n",
       "      <td>6.00</td>\n",
       "      <td>8.0</td>\n",
       "    </tr>\n",
       "    <tr>\n",
       "      <th>amount</th>\n",
       "      <td>80000.0</td>\n",
       "      <td>835.919670</td>\n",
       "      <td>721.273736</td>\n",
       "      <td>5.0047</td>\n",
       "      <td>285.14</td>\n",
       "      <td>582.315</td>\n",
       "      <td>1233.70</td>\n",
       "      <td>3000.0</td>\n",
       "    </tr>\n",
       "  </tbody>\n",
       "</table>\n",
       "</div>"
      ],
      "text/plain": [
       "            count          mean           std      min       25%        50%  \\\n",
       "index     80000.0  39999.500000  23094.155105   0.0000  19999.75  39999.500   \n",
       "region    80000.0      2.675000      1.126672   1.0000      2.00      3.000   \n",
       "in.store  80000.0      0.500000      0.500003   0.0000      0.00      0.500   \n",
       "age       80000.0     45.757925     15.715679  18.0000     33.00     45.000   \n",
       "items     80000.0      4.504975      2.061238   1.0000      3.00      4.000   \n",
       "amount    80000.0    835.919670    721.273736   5.0047    285.14    582.315   \n",
       "\n",
       "               75%      max  \n",
       "index     59999.25  79999.0  \n",
       "region        4.00      4.0  \n",
       "in.store      1.00      1.0  \n",
       "age          56.00     85.0  \n",
       "items         6.00      8.0  \n",
       "amount     1233.70   3000.0  "
      ]
     },
     "execution_count": 10,
     "metadata": {},
     "output_type": "execute_result"
    }
   ],
   "source": [
    "df.describe().T"
   ]
  },
  {
   "cell_type": "markdown",
   "id": "aa4743db",
   "metadata": {},
   "source": [
    "Additional statistical measures that can be calculated are **kurtosis** and **skew**. \n",
    "\n",
    "Both kurtosis and skew are important statistical terms to be familiar with in data science. Kurtosis is the measure of outliers present in the data. **High kurtosis (>3)** indicates a large number of outliers and **low kurtosis (<3)** a lack of outliers.  Skew will indicate how symmetrical your data is. Below is a table that explains the range of values with regards to skew.\n",
    "\n",
    "\n",
    "|   Skew Value (x)  |       Description of Data      |\n",
    "|:-------------------|:---------------:|\n",
    "| -0.5 < x < 0.5              |Fairly Symmetrical |\n",
    "| -1 < x < -0.5 | Moderate Negative Skew  | \n",
    "| 0.5 < x < 1             | Moderate Positive Skew  | \n",
    "|       x < -1     |High Negative Skew  | \n",
    "|       x > 1  |High Positve Skew | \n",
    "\n",
    "<div align=\"left\" style=\"width: 500px; font-size: 80%; text-align: left; margin: 0 auto\">\n",
    "<img src=\"https://github.com/Explore-AI/Pictures/blob/f3aeedd2c056ddd233301c7186063618c1041140/regression_analysis_notebook/skew.jpg?raw=True\"\n",
    "     alt=\"Dummy image 1\"\n",
    "     style=\"float: left; padding-bottom=0.5em\"\n",
    "     width=500px/>\n",
    "     For a more detailed explanation on skew and kurtosis read <a href=\"https://codeburst.io/2-important-statistics-terms-you-need-to-know-in-data-science-skewness-and-kurtosis-388fef94eeaa\">here</a>.\n",
    "</div>\n",
    "\n",
    "\n",
    "The commands used to determine the skew and kurtosis of data are:\n",
    "\n",
    "    - df.skew()\n",
    "    - df.kurtosis()\n",
    "\n",
    "    Note: These functions can only operate on numerical data so we use `numeric_only=True` to automatically ignore non-numeric columns."
   ]
  },
  {
   "cell_type": "code",
   "execution_count": 18,
   "id": "1329f058",
   "metadata": {},
   "outputs": [
    {
     "data": {
      "text/plain": [
       "index       0.000000\n",
       "region     -0.176928\n",
       "in.store    0.000000\n",
       "age         0.378482\n",
       "items       0.000151\n",
       "amount      1.122942\n",
       "dtype: float64"
      ]
     },
     "execution_count": 18,
     "metadata": {},
     "output_type": "execute_result"
    }
   ],
   "source": [
    "df.skew(numeric_only=True) "
   ]
  },
  {
   "cell_type": "code",
   "execution_count": 26,
   "id": "88844b85",
   "metadata": {},
   "outputs": [
    {
     "data": {
      "image/png": "[encoded data removed]",
      "text/plain": [
       "<Figure size 600x600 with 6 Axes>"
      ]
     },
     "metadata": {},
     "output_type": "display_data"
    }
   ],
   "source": [
    "features = ['age', 'amount', 'items', 'in.store', 'region'] # create a list of all numerical features\n",
    "df[features].hist(figsize=(6,6));"
   ]
  },
  {
   "cell_type": "code",
   "execution_count": 22,
   "id": "15123b38",
   "metadata": {},
   "outputs": [
    {
     "name": "stderr",
     "output_type": "stream",
     "text": [
      "C:\\Users\\USER1\\.conda\\envs\\Python\\Lib\\site-packages\\seaborn\\_oldcore.py:1498: FutureWarning: is_categorical_dtype is deprecated and will be removed in a future version. Use isinstance(dtype, CategoricalDtype) instead\n",
      "  if pd.api.types.is_categorical_dtype(vector):\n"
     ]
    },
    {
     "data": {
      "image/png": "[encoded data removed]",
      "text/plain": [
       "<Figure size 640x480 with 1 Axes>"
      ]
     },
     "metadata": {},
     "output_type": "display_data"
    }
   ],
   "source": [
    "import seaborn as sns\n",
    "sns.violinplot(x='amount', data=df);"
   ]
  },
  {
   "cell_type": "markdown",
   "id": "ad7cfd6c",
   "metadata": {},
   "source": [
    "This violin shows that most of the data lies between 0 and 1000.\n"
   ]
  },
  {
   "cell_type": "code",
   "execution_count": 29,
   "id": "6bdf7cee",
   "metadata": {},
   "outputs": [],
   "source": [
    "df1=df.copy()"
   ]
  },
  {
   "cell_type": "code",
   "execution_count": 31,
   "id": "534a65b3",
   "metadata": {},
   "outputs": [
    {
     "name": "stdout",
     "output_type": "stream",
     "text": [
      "<class 'pandas.core.frame.DataFrame'>\n",
      "RangeIndex: 80000 entries, 0 to 79999\n",
      "Data columns (total 8 columns):\n",
      " #   Column      Non-Null Count  Dtype  \n",
      "---  ------      --------------  -----  \n",
      " 0   index       80000 non-null  int64  \n",
      " 1   full.name   80000 non-null  object \n",
      " 2   ip.address  40000 non-null  object \n",
      " 3   region      80000 non-null  int64  \n",
      " 4   in.store    80000 non-null  int64  \n",
      " 5   age         80000 non-null  int64  \n",
      " 6   items       80000 non-null  int64  \n",
      " 7   amount      80000 non-null  float64\n",
      "dtypes: float64(1), int64(5), object(2)\n",
      "memory usage: 4.9+ MB\n"
     ]
    }
   ],
   "source": [
    "df1.info()"
   ]
  },
  {
   "cell_type": "code",
   "execution_count": 33,
   "id": "5788bb8e",
   "metadata": {},
   "outputs": [],
   "source": [
    "df2=df1[['region','in.store','age','items','amount']]"
   ]
  },
  {
   "cell_type": "code",
   "execution_count": 34,
   "id": "1bbd2c18",
   "metadata": {},
   "outputs": [
    {
     "data": {
      "image/png": "[encoded data removed]",
      "text/plain": [
       "<Figure size 1500x1500 with 1 Axes>"
      ]
     },
     "metadata": {},
     "output_type": "display_data"
    }
   ],
   "source": [
    "# The correlation heatmap\n",
    "from statsmodels.graphics.correlation import plot_corr\n",
    "\n",
    "fig = plt.figure(figsize=(15,15));\n",
    "ax = fig.add_subplot(111);\n",
    "plot_corr(df2.corr(), xnames = df2.corr().columns, ax = ax);"
   ]
  },
  {
   "cell_type": "markdown",
   "id": "2506ef67",
   "metadata": {},
   "source": [
    "## Variables and data types\n",
    "\n",
    "In statistics, variables can be classified into two wide classes:\n",
    "1. **Categorical** \n",
    "2. **Numeric**\n",
    "\n",
    "**In the categorical class, we have:**\n",
    "1. **Nominal data**\n",
    "- Binary data – Two distinct outcomes (yes/no or true/false).\n",
    "- Categorical data –  Many data types (primary/secondary/tertiary).\n",
    "\n",
    "2. **Ordinal data** – A number used in scoring that implies an order. An example is a rank from low to high. \n",
    "\n",
    "\n",
    "**In the numeric class, we have:**\n",
    "1.  **Continuous data** \n",
    "- Interval (numerical) data  – Lacks an absolute zero point (temperature in Celsius, year).\n",
    "- Ratio – Variable with any number (rainfall, time, temperature in Kelvin).\n",
    "\n",
    "2.  **Discrete data** – Variables which hold a whole number and can be used as a counting number (number of species in a forest)."
   ]
  },
  {
   "cell_type": "code",
   "execution_count": 39,
   "id": "b1235024",
   "metadata": {},
   "outputs": [
    {
     "data": {
      "text/html": [
       "<div>\n",
       "<style scoped>\n",
       "    .dataframe tbody tr th:only-of-type {\n",
       "        vertical-align: middle;\n",
       "    }\n",
       "\n",
       "    .dataframe tbody tr th {\n",
       "        vertical-align: top;\n",
       "    }\n",
       "\n",
       "    .dataframe thead th {\n",
       "        text-align: right;\n",
       "    }\n",
       "</style>\n",
       "<table border=\"1\" class=\"dataframe\">\n",
       "  <thead>\n",
       "    <tr style=\"text-align: right;\">\n",
       "      <th></th>\n",
       "      <th>index</th>\n",
       "      <th>full.name</th>\n",
       "      <th>ip.address</th>\n",
       "      <th>region</th>\n",
       "      <th>in.store</th>\n",
       "      <th>age</th>\n",
       "      <th>items</th>\n",
       "      <th>amount</th>\n",
       "    </tr>\n",
       "  </thead>\n",
       "  <tbody>\n",
       "    <tr>\n",
       "      <th>0</th>\n",
       "      <td>0</td>\n",
       "      <td>Carter Stokes</td>\n",
       "      <td>NaN</td>\n",
       "      <td>2</td>\n",
       "      <td>0</td>\n",
       "      <td>37</td>\n",
       "      <td>4</td>\n",
       "      <td>281.03</td>\n",
       "    </tr>\n",
       "    <tr>\n",
       "      <th>1</th>\n",
       "      <td>1</td>\n",
       "      <td>Jacob Jerde</td>\n",
       "      <td>NaN</td>\n",
       "      <td>2</td>\n",
       "      <td>0</td>\n",
       "      <td>35</td>\n",
       "      <td>2</td>\n",
       "      <td>219.51</td>\n",
       "    </tr>\n",
       "    <tr>\n",
       "      <th>2</th>\n",
       "      <td>2</td>\n",
       "      <td>Tressa Ratke</td>\n",
       "      <td>192.90.208.202</td>\n",
       "      <td>4</td>\n",
       "      <td>1</td>\n",
       "      <td>45</td>\n",
       "      <td>3</td>\n",
       "      <td>1525.70</td>\n",
       "    </tr>\n",
       "    <tr>\n",
       "      <th>3</th>\n",
       "      <td>3</td>\n",
       "      <td>Rudolf Abshire</td>\n",
       "      <td>251.55.128.164</td>\n",
       "      <td>3</td>\n",
       "      <td>1</td>\n",
       "      <td>46</td>\n",
       "      <td>3</td>\n",
       "      <td>715.25</td>\n",
       "    </tr>\n",
       "    <tr>\n",
       "      <th>4</th>\n",
       "      <td>4</td>\n",
       "      <td>Theresa Davis</td>\n",
       "      <td>182.19.192.186</td>\n",
       "      <td>1</td>\n",
       "      <td>1</td>\n",
       "      <td>33</td>\n",
       "      <td>4</td>\n",
       "      <td>1937.50</td>\n",
       "    </tr>\n",
       "    <tr>\n",
       "      <th>...</th>\n",
       "      <td>...</td>\n",
       "      <td>...</td>\n",
       "      <td>...</td>\n",
       "      <td>...</td>\n",
       "      <td>...</td>\n",
       "      <td>...</td>\n",
       "      <td>...</td>\n",
       "      <td>...</td>\n",
       "    </tr>\n",
       "    <tr>\n",
       "      <th>79995</th>\n",
       "      <td>79995</td>\n",
       "      <td>Hien Kertzmann</td>\n",
       "      <td>17.5.218.127</td>\n",
       "      <td>1</td>\n",
       "      <td>1</td>\n",
       "      <td>71</td>\n",
       "      <td>3</td>\n",
       "      <td>558.82</td>\n",
       "    </tr>\n",
       "    <tr>\n",
       "      <th>79996</th>\n",
       "      <td>79996</td>\n",
       "      <td>Celsa Nikolaus</td>\n",
       "      <td>NaN</td>\n",
       "      <td>3</td>\n",
       "      <td>0</td>\n",
       "      <td>59</td>\n",
       "      <td>7</td>\n",
       "      <td>1932.00</td>\n",
       "    </tr>\n",
       "    <tr>\n",
       "      <th>79997</th>\n",
       "      <td>79997</td>\n",
       "      <td>Noel Jewess</td>\n",
       "      <td>NaN</td>\n",
       "      <td>2</td>\n",
       "      <td>0</td>\n",
       "      <td>54</td>\n",
       "      <td>1</td>\n",
       "      <td>414.16</td>\n",
       "    </tr>\n",
       "    <tr>\n",
       "      <th>79998</th>\n",
       "      <td>79998</td>\n",
       "      <td>Mallie Schaden</td>\n",
       "      <td>142.236.73.247</td>\n",
       "      <td>1</td>\n",
       "      <td>1</td>\n",
       "      <td>49</td>\n",
       "      <td>4</td>\n",
       "      <td>335.32</td>\n",
       "    </tr>\n",
       "    <tr>\n",
       "      <th>79999</th>\n",
       "      <td>79999</td>\n",
       "      <td>Latonia Shanahan</td>\n",
       "      <td>46.30.34.75</td>\n",
       "      <td>3</td>\n",
       "      <td>1</td>\n",
       "      <td>30</td>\n",
       "      <td>1</td>\n",
       "      <td>527.12</td>\n",
       "    </tr>\n",
       "  </tbody>\n",
       "</table>\n",
       "<p>80000 rows × 8 columns</p>\n",
       "</div>"
      ],
      "text/plain": [
       "       index         full.name      ip.address  region  in.store  age  items  \\\n",
       "0          0     Carter Stokes             NaN       2         0   37      4   \n",
       "1          1       Jacob Jerde             NaN       2         0   35      2   \n",
       "2          2      Tressa Ratke  192.90.208.202       4         1   45      3   \n",
       "3          3    Rudolf Abshire  251.55.128.164       3         1   46      3   \n",
       "4          4     Theresa Davis  182.19.192.186       1         1   33      4   \n",
       "...      ...               ...             ...     ...       ...  ...    ...   \n",
       "79995  79995    Hien Kertzmann    17.5.218.127       1         1   71      3   \n",
       "79996  79996    Celsa Nikolaus             NaN       3         0   59      7   \n",
       "79997  79997       Noel Jewess             NaN       2         0   54      1   \n",
       "79998  79998    Mallie Schaden  142.236.73.247       1         1   49      4   \n",
       "79999  79999  Latonia Shanahan     46.30.34.75       3         1   30      1   \n",
       "\n",
       "        amount  \n",
       "0       281.03  \n",
       "1       219.51  \n",
       "2      1525.70  \n",
       "3       715.25  \n",
       "4      1937.50  \n",
       "...        ...  \n",
       "79995   558.82  \n",
       "79996  1932.00  \n",
       "79997   414.16  \n",
       "79998   335.32  \n",
       "79999   527.12  \n",
       "\n",
       "[80000 rows x 8 columns]"
      ]
     },
     "execution_count": 39,
     "metadata": {},
     "output_type": "execute_result"
    }
   ],
   "source": [
    "df"
   ]
  },
  {
   "cell_type": "markdown",
   "id": "cb179662",
   "metadata": {},
   "source": [
    "#### Tell the columns and their variable and data types."
   ]
  },
  {
   "cell_type": "code",
   "execution_count": null,
   "id": "80424c3c",
   "metadata": {},
   "outputs": [],
   "source": []
  },
  {
   "cell_type": "code",
   "execution_count": 36,
   "id": "d732fdbe",
   "metadata": {},
   "outputs": [],
   "source": [
    "import matplotlib.pyplot as plt\n",
    "import scipy.stats as st"
   ]
  },
  {
   "cell_type": "markdown",
   "id": "4b764eb9",
   "metadata": {},
   "source": [
    "# Probability"
   ]
  },
  {
   "attachments": {
    "arya_importance_probability_data_science_1_1.png": {
     "image/png": "[encoded data removed]"
    }
   },
   "cell_type": "markdown",
   "id": "ae284eba",
   "metadata": {},
   "source": [
    "## What is probability?\n",
    "**Probability** Is a chance of an event to occur.\n",
    "- **Probability** always equal to 1\n",
    "- **P(A)=number of ways/number of outcomes**\n",
    "\n",
    "![arya_importance_probability_data_science_1_1.png](attachment:arya_importance_probability_data_science_1_1.png)"
   ]
  },
  {
   "cell_type": "markdown",
   "id": "71e549b7",
   "metadata": {},
   "source": [
    "## P-value\n",
    "The P value is defined as the probability under the assumption of no effect or no difference (null hypothesis), of obtaining a result equal to or more extreme than what was actually observed. The P stands for probability and measures how likely it is that any observed difference between groups is due to chance.\n",
    "- P-value is equal to 0.05"
   ]
  },
  {
   "cell_type": "markdown",
   "id": "ec82d5d1",
   "metadata": {},
   "source": [
    "100%-95%= 5% = 0.05\n",
    "p-value = 0.078 *100 =7.8\n",
    "100-7.8 = 92.2%"
   ]
  },
  {
   "cell_type": "code",
   "execution_count": null,
   "id": "71b6fea2",
   "metadata": {},
   "outputs": [],
   "source": []
  }
 ],
 "metadata": {
  "kernelspec": {
   "display_name": "Python 3 (ipykernel)",
   "language": "python",
   "name": "python3"
  },
  "language_info": {
   "codemirror_mode": {
    "name": "ipython",
    "version": 3
   },
   "file_extension": ".py",
   "mimetype": "text/x-python",
   "name": "python",
   "nbconvert_exporter": "python",
   "pygments_lexer": "ipython3",
   "version": "3.11.5"
  }
 },
 "nbformat": 4,
 "nbformat_minor": 5
}
